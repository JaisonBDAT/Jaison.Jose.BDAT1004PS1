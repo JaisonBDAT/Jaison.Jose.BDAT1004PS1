{
 "cells": [
  {
   "cell_type": "markdown",
   "metadata": {},
   "source": [
    "# Question 1"
   ]
  },
  {
   "cell_type": "markdown",
   "metadata": {},
   "source": [
    "\n",
    "Question 1 C#\n",
    "What data type is each of the following?\n",
    "\n",
    "5\n",
    "\n",
    "5.0\n",
    "\n",
    "5 > 1\n",
    "\n",
    "'5'\n",
    "\n",
    "5 * 2 \n",
    "\n",
    "'5' * 2 \n",
    "\n",
    "'5' + '2'\n",
    "\n",
    "5 / 2 \n",
    "\n",
    "5 % 2 \n",
    "\n",
    "{5, 2, 1}\n",
    "\n",
    "5 == 3 \n",
    "\n",
    "Pi (the number) "
   ]
  },
  {
   "cell_type": "code",
   "execution_count": 1,
   "metadata": {},
   "outputs": [
    {
     "data": {
      "text/html": [
       "\r\n",
       "<div>\r\n",
       "    <div id='dotnet-interactive-this-cell-10192.Microsoft.DotNet.Interactive.Http.HttpPort' style='display: none'>\r\n",
       "        The below script needs to be able to find the current output cell; this is an easy method to get it.\r\n",
       "    </div>\r\n",
       "    <script type='text/javascript'>\r\n",
       "async function probeAddresses(probingAddresses) {\r\n",
       "    function timeout(ms, promise) {\r\n",
       "        return new Promise(function (resolve, reject) {\r\n",
       "            setTimeout(function () {\r\n",
       "                reject(new Error('timeout'))\r\n",
       "            }, ms)\r\n",
       "            promise.then(resolve, reject)\r\n",
       "        })\r\n",
       "    }\r\n",
       "\r\n",
       "    if (Array.isArray(probingAddresses)) {\r\n",
       "        for (let i = 0; i < probingAddresses.length; i++) {\r\n",
       "\r\n",
       "            let rootUrl = probingAddresses[i];\r\n",
       "\r\n",
       "            if (!rootUrl.endsWith('/')) {\r\n",
       "                rootUrl = `${rootUrl}/`;\r\n",
       "            }\r\n",
       "\r\n",
       "            try {\r\n",
       "                let response = await timeout(1000, fetch(`${rootUrl}discovery`, {\r\n",
       "                    method: 'POST',\r\n",
       "                    cache: 'no-cache',\r\n",
       "                    mode: 'cors',\r\n",
       "                    timeout: 1000,\r\n",
       "                    headers: {\r\n",
       "                        'Content-Type': 'text/plain'\r\n",
       "                    },\r\n",
       "                    body: probingAddresses[i]\r\n",
       "                }));\r\n",
       "\r\n",
       "                if (response.status == 200) {\r\n",
       "                    return rootUrl;\r\n",
       "                }\r\n",
       "            }\r\n",
       "            catch (e) { }\r\n",
       "        }\r\n",
       "    }\r\n",
       "}\r\n",
       "\r\n",
       "function loadDotnetInteractiveApi() {\r\n",
       "    probeAddresses([\"http://192.168.56.1:1000/\", \"http://192.168.225.240:1000/\", \"http://127.0.0.1:1000/\"])\r\n",
       "        .then((root) => {\r\n",
       "        // use probing to find host url and api resources\r\n",
       "        // load interactive helpers and language services\r\n",
       "        let dotnetInteractiveRequire = require.config({\r\n",
       "        context: '10192.Microsoft.DotNet.Interactive.Http.HttpPort',\r\n",
       "                paths:\r\n",
       "            {\r\n",
       "                'dotnet-interactive': `${root}resources`\r\n",
       "                }\r\n",
       "        }) || require;\r\n",
       "\r\n",
       "            window.dotnetInteractiveRequire = dotnetInteractiveRequire;\r\n",
       "\r\n",
       "            window.configureRequireFromExtension = function(extensionName, extensionCacheBuster) {\r\n",
       "                let paths = {};\r\n",
       "                paths[extensionName] = `${root}extensions/${extensionName}/resources/`;\r\n",
       "                \r\n",
       "                let internalRequire = require.config({\r\n",
       "                    context: extensionCacheBuster,\r\n",
       "                    paths: paths,\r\n",
       "                    urlArgs: `cacheBuster=${extensionCacheBuster}`\r\n",
       "                    }) || require;\r\n",
       "\r\n",
       "                return internalRequire\r\n",
       "            };\r\n",
       "        \r\n",
       "            dotnetInteractiveRequire([\r\n",
       "                    'dotnet-interactive/dotnet-interactive'\r\n",
       "                ],\r\n",
       "                function (dotnet) {\r\n",
       "                    dotnet.init(window);\r\n",
       "                },\r\n",
       "                function (error) {\r\n",
       "                    console.log(error);\r\n",
       "                }\r\n",
       "            );\r\n",
       "        })\r\n",
       "        .catch(error => {console.log(error);});\r\n",
       "    }\r\n",
       "\r\n",
       "// ensure `require` is available globally\r\n",
       "if ((typeof(require) !==  typeof(Function)) || (typeof(require.config) !== typeof(Function))) {\r\n",
       "    let require_script = document.createElement('script');\r\n",
       "    require_script.setAttribute('src', 'https://cdnjs.cloudflare.com/ajax/libs/require.js/2.3.6/require.min.js');\r\n",
       "    require_script.setAttribute('type', 'text/javascript');\r\n",
       "    \r\n",
       "    \r\n",
       "    require_script.onload = function() {\r\n",
       "        loadDotnetInteractiveApi();\r\n",
       "    };\r\n",
       "\r\n",
       "    document.getElementsByTagName('head')[0].appendChild(require_script);\r\n",
       "}\r\n",
       "else {\r\n",
       "    loadDotnetInteractiveApi();\r\n",
       "}\r\n",
       "\r\n",
       "    </script>\r\n",
       "</div>"
      ]
     },
     "metadata": {},
     "output_type": "display_data"
    }
   ],
   "source": [
    "// Fuction Overloading is used to find the data type of inputs\n",
    "void findDataType(int n)\n",
    "{\n",
    "         Console.WriteLine(\"This is of integer data type.\");\n",
    "}\n",
    "void findDataType(float n)\n",
    "{\n",
    "         Console.WriteLine(\"This is of Float data type.\");\n",
    "}\n",
    "void findDataType(double n)\n",
    "{\n",
    "         Console.WriteLine(\"This is of Double data type.\");\n",
    "}\n",
    "void findDataType(Boolean n)\n",
    "{\n",
    "         Console.WriteLine(\"This is of Boolean data type.\");\n",
    "}\n",
    "void findDataType(char n)\n",
    "{\n",
    "         Console.WriteLine(\"This is of char data type.\");\n",
    "}\n",
    "void findDataType(object[] n)\n",
    "{\n",
    "         Type tp = n[0].GetType();\n",
    "\n",
    "        if (tp.Equals(typeof(int)))\n",
    "                 Console.WriteLine(\"Array is of integer data type.\");\n",
    "        else if(tp.Equals(typeof(Boolean)))\n",
    "                 Console.WriteLine(\"Array is of boolean type.\");\n",
    "        else if(tp.Equals(typeof(double)))\n",
    "                 Console.WriteLine(\"Array is of double type.\");\n",
    "        else if(tp.Equals(typeof(char)))\n",
    "                 Console.WriteLine(\"Array is of double type.\");\n",
    "        else if(tp.Equals(typeof(float)))\n",
    "                 Console.WriteLine(\"Array is of double type.\");\n",
    "        else if(tp.Equals(typeof(decimal)))\n",
    "                 Console.WriteLine(\"Array is of double type.\");\n",
    "\n",
    "}\n",
    "void findDataType(decimal n)\n",
    "{\n",
    "         Console.WriteLine(\"This is of decimal data type.\", n);\n",
    "}"
   ]
  },
  {
   "cell_type": "code",
   "execution_count": 2,
   "metadata": {},
   "outputs": [
    {
     "name": "stdout",
     "output_type": "stream",
     "text": [
      "a,Find the Datatype of 5\n",
      "Result:\n",
      "This is of integer data type.\n",
      "b,Find the Datatype of 5.0\n",
      "Result:\n",
      "This is of Double data type.\n",
      "c,Find the Datatype of 5 > 1\n",
      "Result:\n",
      "This is of Boolean data type.\n",
      "d,Find the Datatype of '5'\n",
      "Result:\n",
      "This is of char data type.\n",
      "e,Find the Datatype of 5*2\n",
      "Result:\n",
      "This is of integer data type.\n",
      "f,Find the Datatype of '5'*2\n",
      "Result:\n",
      "This is of integer data type.\n",
      "g,Find the Datatype of '5'+'2'\n",
      "Result:\n",
      "This is of integer data type.\n",
      "h,Find the Datatype of 5/2\n",
      "Result:\n",
      "This is of integer data type.\n",
      "i,Find the Datatype of 5%2\n",
      "Result:\n",
      "This is of integer data type.\n",
      "j,Find the Datatype of {5, 2, 1}\n",
      "Result:\n",
      "Array is of integer data type.\n",
      "k,Find the Datatype of 5==3\n",
      "Result:\n",
      "This is of Boolean data type.\n",
      "l,Find the Datatype of Math.PI\n",
      "Result:\n",
      "This is of Double data type.\n"
     ]
    }
   ],
   "source": [
    "Console.WriteLine(\"a,Find the Datatype of 5\");\n",
    "Console.WriteLine(\"Result:\");\n",
    "findDataType(5);\n",
    "Console.WriteLine(\"b,Find the Datatype of 5.0\");\n",
    "Console.WriteLine(\"Result:\");\n",
    "findDataType(5.0);\n",
    "Console.WriteLine(\"c,Find the Datatype of 5 > 1\");\n",
    "Console.WriteLine(\"Result:\");\n",
    "findDataType(5 > 1);\n",
    "Console.WriteLine(\"d,Find the Datatype of '5'\");\n",
    "Console.WriteLine(\"Result:\");\n",
    "findDataType('5');\n",
    "Console.WriteLine(\"e,Find the Datatype of 5*2\");\n",
    "Console.WriteLine(\"Result:\");\n",
    "findDataType(5*2);\n",
    "Console.WriteLine(\"f,Find the Datatype of '5'*2\");\n",
    "Console.WriteLine(\"Result:\");\n",
    "findDataType('5'*2);\n",
    "Console.WriteLine(\"g,Find the Datatype of '5'+'2'\");\n",
    "Console.WriteLine(\"Result:\");\n",
    "findDataType('5'+'2');\n",
    "Console.WriteLine(\"h,Find the Datatype of 5/2\");\n",
    "Console.WriteLine(\"Result:\");\n",
    "findDataType(5/2);\n",
    "Console.WriteLine(\"i,Find the Datatype of 5%2\");\n",
    "Console.WriteLine(\"Result:\");\n",
    "findDataType(5%2);\n",
    "Console.WriteLine(\"j,Find the Datatype of {5, 2, 1}\");\n",
    "Console.WriteLine(\"Result:\");\n",
    "object[] array= {5, 2, 1};\n",
    "findDataType(array);\n",
    "Console.WriteLine(\"k,Find the Datatype of 5==3\");\n",
    "Console.WriteLine(\"Result:\");\n",
    "findDataType(5==3);\n",
    "Console.WriteLine(\"l,Find the Datatype of Math.PI\");\n",
    "Console.WriteLine(\"Result:\");\n",
    "findDataType(Math.PI);"
   ]
  },
  {
   "cell_type": "markdown",
   "metadata": {},
   "source": [
    "# Question 2\n"
   ]
  },
  {
   "cell_type": "markdown",
   "metadata": {},
   "source": [
    "Write (and evaluate) C# expressions that answer these questions:\n",
    "\n",
    "a. How many letters are there in 'Supercalifragilisticexpialidocious'?\n",
    "\n"
   ]
  },
  {
   "cell_type": "code",
   "execution_count": 3,
   "metadata": {},
   "outputs": [
    {
     "name": "stdout",
     "output_type": "stream",
     "text": [
      "Letter count:34\r\n"
     ]
    }
   ],
   "source": [
    "String s=\"Supercalifragilisticexpialidocious\";\n",
    "int count=0;\n",
    "foreach(char c in s)\n",
    "count++;\n",
    "Console.WriteLine(\"Letter count:{0}\",count);  "
   ]
  },
  {
   "cell_type": "markdown",
   "metadata": {},
   "source": [
    "b. Does 'Supercalifragilisticexpialidocious' contain 'ice' as a substring? "
   ]
  },
  {
   "cell_type": "code",
   "execution_count": 4,
   "metadata": {},
   "outputs": [
    {
     "name": "stdout",
     "output_type": "stream",
     "text": [
      "String Supercalifragilisticexpialidocious contains substring ice\r\n"
     ]
    }
   ],
   "source": [
    "String s=\"Supercalifragilisticexpialidocious\";\n",
    "string subs=\"ice\";\n",
    "\n",
    "if(s.Contains(subs))\n",
    "    Console.WriteLine(\"String {0} contains substring {1}\",s,subs); \n",
    "else\n",
    "    Console.WriteLine(\"String {0} doesnot contain substring {1}\",s,subs); "
   ]
  },
  {
   "cell_type": "markdown",
   "metadata": {},
   "source": [
    "c. Which of the following words is the longest: \n",
    "Supercalifragilisticexpialidocious, Honorificabilitudinitatibus, or \n",
    "Bababadalgharaghtakamminarronnkonn? "
   ]
  },
  {
   "cell_type": "code",
   "execution_count": 5,
   "metadata": {},
   "outputs": [
    {
     "name": "stdout",
     "output_type": "stream",
     "text": [
      "Word Supercalifragilisticexpialidocious and Bababadalgharaghtakamminarronnkonn has same length and is the longest.\r\n"
     ]
    }
   ],
   "source": [
    "String s1=\"Supercalifragilisticexpialidocious\";\n",
    "String s2=\"Honorificabilitudinitatibus\";\n",
    "String s3=\"Bababadalgharaghtakamminarronnkonn\";\n",
    "int count1,count2,count3;\n",
    "count1=count2=count3=0;\n",
    "foreach(char c in s1)\n",
    "count1++;\n",
    "foreach(char c in s2)\n",
    "count2++;\n",
    "foreach(char c in s3)\n",
    "count3++;\n",
    "if((count1==count2)&&(count1>count3))\n",
    "    Console.WriteLine(\"Word {0} and {1} has same length and is the longest.\",s1,s2);  \n",
    "else if((count1==count3)&&(count1>count2))\n",
    "    Console.WriteLine(\"Word {0} and {1} has same length and is the longest.\",s1,s3); \n",
    "else if((count2==count3)&&(count2>count1))\n",
    "    Console.WriteLine(\"Word {0} and {1} has same length and is the longest.\",s2,s3); \n",
    "else if((count1>count2)&&(count1>count3))\n",
    "    Console.WriteLine(\"{0} is the longest word\",s1);  \n",
    "else if((count2>count1)&&(count2>count3))\n",
    "    Console.WriteLine(\"{0} is the longest word\",s2); \n",
    "else\n",
    "    Console.WriteLine(\"{0} is the longest word\",s3); "
   ]
  },
  {
   "cell_type": "markdown",
   "metadata": {},
   "source": [
    "d. Which composer comes first in the dictionary: 'Berlioz', 'Borodin', 'Brian', \n",
    "'Bartok', 'Bellini', 'Buxtehude', 'Bernstein'. Which one comes last?\n"
   ]
  },
  {
   "cell_type": "code",
   "execution_count": 6,
   "metadata": {
    "scrolled": true
   },
   "outputs": [
    {
     "name": "stdout",
     "output_type": "stream",
     "text": [
      "Bartok is the composer who comes first in dictionary\n",
      "Buxtehude is the composer who comes last in dictionary\n"
     ]
    }
   ],
   "source": [
    "var names = new SortedSet<string>();\n",
    "          names.Add(\"Berlioz\");\n",
    "          names.Add(\"Borodin\");\n",
    "          names.Add(\"Brian\");\n",
    "          names.Add(\"Bartok\");\n",
    "          names.Add(\"Bellini\");\n",
    "          names.Add(\"Buxtehude\");\n",
    "          names.Add(\"Bernstein\");\n",
    "String firstname;\n",
    "String lastname;\n",
    "Boolean isThisTheFirstNameInList=true;\n",
    "          foreach (var name in names)\n",
    "          {\n",
    "            if(isThisTheFirstNameInList)\n",
    "            {\n",
    "                firstname=name;\n",
    "                isThisTheFirstNameInList=false;\n",
    "            } \n",
    "            else   //FOr all iterations of the loop after the first name, this else case will get executed.\n",
    "            {      //Hence after the loop is executed lastname will contain the last name in the list.\n",
    "              lastname=name;\n",
    "            }\n",
    "          } \n",
    "Console.WriteLine(\"{0} is the composer who comes first in dictionary\",firstname);\n",
    "Console.WriteLine(\"{0} is the composer who comes last in dictionary\",lastname);"
   ]
  },
  {
   "cell_type": "markdown",
   "metadata": {},
   "source": [
    "# Question 3  C#"
   ]
  },
  {
   "cell_type": "markdown",
   "metadata": {},
   "source": [
    "Implement function triangleArea(a,b,c) that takes as input the lengths of the 3\n",
    "sides of a triangle and returns the area of the triangle. By Heron's formula, the area \n",
    "of a triangle with side lengths a, b, and c is\n",
    "s(s - a)(s -b)(s -c)\n",
    ", where \n",
    "s = (a+b+c)/2.\n",
    "    "
   ]
  },
  {
   "cell_type": "code",
   "execution_count": 7,
   "metadata": {},
   "outputs": [],
   "source": [
    "double triangleArea(double a,double b,double c)\n",
    "{\n",
    "    double s=(a+b+c)/2;\n",
    "    double area=Math.Sqrt(s*(s-a)*(s-b)*(s-c));\n",
    "    return area;\n",
    "}"
   ]
  },
  {
   "cell_type": "code",
   "execution_count": 8,
   "metadata": {},
   "outputs": [
    {
     "name": "stdout",
     "output_type": "stream",
     "text": [
      "1.7320508075688772\r\n"
     ]
    }
   ],
   "source": [
    "double area=triangleArea(2.0,2.0,2.0);\n",
    "Console.WriteLine(area);"
   ]
  },
  {
   "cell_type": "markdown",
   "metadata": {},
   "source": [
    "# Question 4 C#"
   ]
  },
  {
   "cell_type": "markdown",
   "metadata": {},
   "source": [
    "Write a program in C# Sharp to separate odd and even integers in separate arrays. \n",
    "Go to the editor\n",
    "\n",
    "Test Data :\n",
    "\n",
    "\n",
    "Input the number of elements to be stored in the array :5\n",
    "\n",
    "Input 5 elements in the array :\n",
    "\n",
    "element - 0 : 25\n",
    "\n",
    "element - 1 : 47\n",
    "\n",
    "element - 2 : 42\n",
    "\n",
    "element - 3 : 56\n",
    "\n",
    "element - 4 : 32\n",
    "\n",
    "Expected Output:\n",
    "\n",
    "The Even elements are:\n",
    "\n",
    "42 56 32\n",
    "\n",
    "The Odd elements are :\n",
    "\n",
    "25 47"
   ]
  },
  {
   "cell_type": "code",
   "execution_count": 9,
   "metadata": {},
   "outputs": [
    {
     "name": "stdout",
     "output_type": "stream",
     "text": [
      "The Even elements are:\n",
      "42 56 32 \n",
      "The Odd elements are:\n",
      "25 47 "
     ]
    }
   ],
   "source": [
    "int noOfInputs=5; //Asuming noOfInputs=5 as Readline does not currently work with jupyter \n",
    "int evenCount=0;\n",
    "int oddCount=0;\n",
    "int[] oddNos=new int[noOfInputs];\n",
    "int[] evenNos=new int[noOfInputs];\n",
    "int [] nos = new int[5]{25,47,42,56,32};\n",
    "for(int i=0;i<noOfInputs;i++)\n",
    "{\n",
    "    int currentNo=nos[i];\n",
    "    if((currentNo%2) == 0)\n",
    "    {\n",
    "        evenNos[evenCount]=nos[i];\n",
    "        evenCount++;\n",
    "    }\n",
    "    else\n",
    "    {\n",
    "        oddNos[oddCount]=nos[i];\n",
    "        oddCount++;\n",
    "    }\n",
    "}\n",
    "Console.WriteLine(\"The Even elements are:\");\n",
    "for(int i=0;i<evenCount;i++)\n",
    "{\n",
    "    Console.Write(\"{0} \",evenNos[i]);\n",
    "}\n",
    "Console.WriteLine(\"\");\n",
    "Console.WriteLine(\"The Odd elements are:\");\n",
    "for(int i=0;i<oddCount;i++)\n",
    "{\n",
    "    Console.Write(\"{0} \",oddNos[i]);\n",
    "}"
   ]
  },
  {
   "cell_type": "markdown",
   "metadata": {},
   "source": [
    "# Question 5 C#"
   ]
  },
  {
   "cell_type": "markdown",
   "metadata": {},
   "source": [
    "a. Write a function inside(x,y,x1,y1,x2,y2) that returns True or False \n",
    "depending on whether the point (x,y) lies in the rectangle with lower left \n",
    "corner (x1,y1) and upper right corner (x2,y2)."
   ]
  },
  {
   "cell_type": "code",
   "execution_count": 7,
   "metadata": {},
   "outputs": [],
   "source": [
    "Boolean inside(double x,double y,double x1,double y1,double x2,double y2)\n",
    "{\n",
    "    if((x>x1)&&(x<x2)&&(y>y1)&&(y<y2))\n",
    "        return true;\n",
    "    else\n",
    "        return false;\n",
    "}"
   ]
  },
  {
   "cell_type": "code",
   "execution_count": 8,
   "metadata": {},
   "outputs": [
    {
     "name": "stdout",
     "output_type": "stream",
     "text": [
      "True \r\n"
     ]
    }
   ],
   "source": [
    "Boolean result=inside(2,2,1,1,3,3);\n",
    "Console.WriteLine(\"{0} \",result);"
   ]
  },
  {
   "cell_type": "markdown",
   "metadata": {},
   "source": [
    "b. Use function inside() from part a. to write an expression that tests whether \n",
    "the point (1,1) lies in both of the following rectangles: one with lower left \n",
    "corner (0.3, 0.5) and upper right corner (1.1, 0.7) and the other with lower \n",
    "left corner (0.5, 0.2) and upper right corner (1.1, 2). "
   ]
  },
  {
   "cell_type": "code",
   "execution_count": 9,
   "metadata": {},
   "outputs": [
    {
     "name": "stdout",
     "output_type": "stream",
     "text": [
      "False \r\n"
     ]
    }
   ],
   "source": [
    "//To check if (1,1) is inside rectangle 1\n",
    "Boolean result1=inside(1,1,0.3,0.5,1.1,0.7);\n",
    "//To check if (1,1) is inside rectangle 2\n",
    "Boolean result2=inside(1,1,0.5,0.2,1.1,2);\n",
    "Boolean pointInsideOrNot=result1&&result2;\n",
    "Console.WriteLine(\"{0} \",pointInsideOrNot);"
   ]
  },
  {
   "cell_type": "code",
   "execution_count": null,
   "metadata": {},
   "outputs": [],
   "source": []
  }
 ],
 "metadata": {
  "kernelspec": {
   "display_name": ".NET (C#)",
   "language": "C#",
   "name": ".net-csharp"
  },
  "language_info": {
   "file_extension": ".cs",
   "mimetype": "text/x-csharp",
   "name": "C#",
   "pygments_lexer": "csharp",
   "version": "9.0"
  }
 },
 "nbformat": 4,
 "nbformat_minor": 4
}
